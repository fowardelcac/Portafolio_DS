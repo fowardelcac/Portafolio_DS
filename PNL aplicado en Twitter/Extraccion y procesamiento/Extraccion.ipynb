{
 "cells": [
  {
   "cell_type": "code",
   "execution_count": 1,
   "id": "eceb9b23",
   "metadata": {},
   "outputs": [],
   "source": [
    "import pandas as pd\n",
    "import snscrape.modules.twitter as st"
   ]
  },
  {
   "cell_type": "code",
   "execution_count": 5,
   "id": "93773e69",
   "metadata": {},
   "outputs": [],
   "source": [
    "usuarios = ['@JMilei', '@alferdez', '@CFKArgentina', '@PatoBullrich', '@horaciorlarreta']"
   ]
  },
  {
   "cell_type": "code",
   "execution_count": 19,
   "id": "7f5bd394",
   "metadata": {},
   "outputs": [],
   "source": [
    "query = \"@JMilei since:2022-01-01\"\n",
    "milei = []\n",
    "limit = 5000\n",
    "for tw in st.TwitterSearchScraper(query).get_items():\n",
    "    if len(milei) == limit:\n",
    "        break\n",
    "    #\"dic_milei['Fecha'] = tw.date\n",
    "    else:\n",
    "        milei.append([tw.date, tw.rawContent])\n",
    "        \n",
    "df = pd.DataFrame(tweets, columns=['Date', 'Tweet'])"
   ]
  },
  {
   "cell_type": "code",
   "execution_count": null,
   "id": "fcf00853",
   "metadata": {},
   "outputs": [],
   "source": [
    "def get_tweets(palabra_clave, limite, lista):\n",
    "    for tw in st.TwitterSearchScraper(query).get_items():\n",
    "    if len(lista) == limite:\n",
    "        break\n",
    "    else:\n",
    "        lista.append([tw.date, tw.rawContent])"
   ]
  },
  {
   "cell_type": "code",
   "execution_count": 21,
   "id": "ad886c69",
   "metadata": {},
   "outputs": [],
   "source": [
    "df = pd.DataFrame(milei, columns=['Date', 'Tweet'])"
   ]
  },
  {
   "cell_type": "code",
   "execution_count": 22,
   "id": "994da131",
   "metadata": {},
   "outputs": [
    {
     "data": {
      "text/html": [
       "<div>\n",
       "<style scoped>\n",
       "    .dataframe tbody tr th:only-of-type {\n",
       "        vertical-align: middle;\n",
       "    }\n",
       "\n",
       "    .dataframe tbody tr th {\n",
       "        vertical-align: top;\n",
       "    }\n",
       "\n",
       "    .dataframe thead th {\n",
       "        text-align: right;\n",
       "    }\n",
       "</style>\n",
       "<table border=\"1\" class=\"dataframe\">\n",
       "  <thead>\n",
       "    <tr style=\"text-align: right;\">\n",
       "      <th></th>\n",
       "      <th>Date</th>\n",
       "      <th>Tweet</th>\n",
       "    </tr>\n",
       "  </thead>\n",
       "  <tbody>\n",
       "    <tr>\n",
       "      <th>0</th>\n",
       "      <td>2023-04-13 02:21:56+00:00</td>\n",
       "      <td>@Toledo_Cuervo @lilianafranco20 @JMilei @Socie...</td>\n",
       "    </tr>\n",
       "    <tr>\n",
       "      <th>1</th>\n",
       "      <td>2023-04-13 02:21:44+00:00</td>\n",
       "      <td>@danielm79478000 @CrusherVR @JMilei \"Y quizás ...</td>\n",
       "    </tr>\n",
       "    <tr>\n",
       "      <th>2</th>\n",
       "      <td>2023-04-13 02:21:11+00:00</td>\n",
       "      <td>@agarra_pala @JMilei No termino de entender de...</td>\n",
       "    </tr>\n",
       "    <tr>\n",
       "      <th>3</th>\n",
       "      <td>2023-04-13 02:20:59+00:00</td>\n",
       "      <td>@MaipuOsvaldo @Franciscobrun_ @mgrealpolitik @...</td>\n",
       "    </tr>\n",
       "    <tr>\n",
       "      <th>4</th>\n",
       "      <td>2023-04-13 02:20:57+00:00</td>\n",
       "      <td>@Mateo607323221 @CrusherVR @JMilei Vos supones...</td>\n",
       "    </tr>\n",
       "    <tr>\n",
       "      <th>...</th>\n",
       "      <td>...</td>\n",
       "      <td>...</td>\n",
       "    </tr>\n",
       "    <tr>\n",
       "      <th>4995</th>\n",
       "      <td>2023-04-12 14:54:40+00:00</td>\n",
       "      <td>@WalterJCalvo1 @naty_motyl @JMilei Coincido</td>\n",
       "    </tr>\n",
       "    <tr>\n",
       "      <th>4996</th>\n",
       "      <td>2023-04-12 14:54:35+00:00</td>\n",
       "      <td>@iiva_nyan @porqueTTLiberal @JMilei No estoy h...</td>\n",
       "    </tr>\n",
       "    <tr>\n",
       "      <th>4997</th>\n",
       "      <td>2023-04-12 14:54:21+00:00</td>\n",
       "      <td>Quedó en shock el pautero!!! lo de @JMilei fue...</td>\n",
       "    </tr>\n",
       "    <tr>\n",
       "      <th>4998</th>\n",
       "      <td>2023-04-12 14:54:01+00:00</td>\n",
       "      <td>@lautaroquiroz_ @PatoBullrich @JMilei te voto</td>\n",
       "    </tr>\n",
       "    <tr>\n",
       "      <th>4999</th>\n",
       "      <td>2023-04-12 14:53:36+00:00</td>\n",
       "      <td>@Carmelo94122771 @ricardobussi @JMilei Es una ...</td>\n",
       "    </tr>\n",
       "  </tbody>\n",
       "</table>\n",
       "<p>5000 rows × 2 columns</p>\n",
       "</div>"
      ],
      "text/plain": [
       "                          Date  \\\n",
       "0    2023-04-13 02:21:56+00:00   \n",
       "1    2023-04-13 02:21:44+00:00   \n",
       "2    2023-04-13 02:21:11+00:00   \n",
       "3    2023-04-13 02:20:59+00:00   \n",
       "4    2023-04-13 02:20:57+00:00   \n",
       "...                        ...   \n",
       "4995 2023-04-12 14:54:40+00:00   \n",
       "4996 2023-04-12 14:54:35+00:00   \n",
       "4997 2023-04-12 14:54:21+00:00   \n",
       "4998 2023-04-12 14:54:01+00:00   \n",
       "4999 2023-04-12 14:53:36+00:00   \n",
       "\n",
       "                                                  Tweet  \n",
       "0     @Toledo_Cuervo @lilianafranco20 @JMilei @Socie...  \n",
       "1     @danielm79478000 @CrusherVR @JMilei \"Y quizás ...  \n",
       "2     @agarra_pala @JMilei No termino de entender de...  \n",
       "3     @MaipuOsvaldo @Franciscobrun_ @mgrealpolitik @...  \n",
       "4     @Mateo607323221 @CrusherVR @JMilei Vos supones...  \n",
       "...                                                 ...  \n",
       "4995        @WalterJCalvo1 @naty_motyl @JMilei Coincido  \n",
       "4996  @iiva_nyan @porqueTTLiberal @JMilei No estoy h...  \n",
       "4997  Quedó en shock el pautero!!! lo de @JMilei fue...  \n",
       "4998      @lautaroquiroz_ @PatoBullrich @JMilei te voto  \n",
       "4999  @Carmelo94122771 @ricardobussi @JMilei Es una ...  \n",
       "\n",
       "[5000 rows x 2 columns]"
      ]
     },
     "execution_count": 22,
     "metadata": {},
     "output_type": "execute_result"
    }
   ],
   "source": [
    "df"
   ]
  }
 ],
 "metadata": {
  "kernelspec": {
   "display_name": "jc",
   "language": "python",
   "name": "jc"
  },
  "language_info": {
   "codemirror_mode": {
    "name": "ipython",
    "version": 3
   },
   "file_extension": ".py",
   "mimetype": "text/x-python",
   "name": "python",
   "nbconvert_exporter": "python",
   "pygments_lexer": "ipython3",
   "version": "3.10.9"
  }
 },
 "nbformat": 4,
 "nbformat_minor": 5
}
